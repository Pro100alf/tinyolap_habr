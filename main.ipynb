{
 "cells": [
  {
   "cell_type": "code",
   "execution_count": null,
   "metadata": {},
   "outputs": [],
   "source": [
    "import pandas as pd\n",
    "from tinyolap.database import Database\n",
    "\n",
    "from tinyolap.cell import Cell\n",
    "from tinyolap.decorators import rule\n",
    "from tinyolap.rules import RuleScope\n",
    "from tinyolap.view import View\n",
    "import os"
   ]
  },
  {
   "cell_type": "code",
   "execution_count": null,
   "metadata": {},
   "outputs": [],
   "source": [
    "db = Database(\"forms\", in_memory=True) \n",
    "db.caching = False"
   ]
  },
  {
   "cell_type": "code",
   "execution_count": null,
   "metadata": {},
   "outputs": [],
   "source": [
    "# названия файлов с измерениями\n",
    "dimension_names = [\"dim_company\", \"dim_assets\", \"dim_date\"]\n",
    "cwd = os.getcwd()\n",
    "\n",
    "dimensions = []\n",
    "\n",
    "for name in dimension_names:\n",
    "    # строим путь до файла\n",
    "    file_name = os.path.join(cwd, \"data\", f\"{name}.csv\")\n",
    "    \n",
    "    # создаем новое измерение в TinyOLAP и открываем его на редактирование\n",
    "    dim = db.add_dimension(name).edit()\n",
    "    df = pd.read_csv(file_name)\n",
    "    \n",
    "    # делаем список уникальных элементов измерения\n",
    "    unique_dim = df[df.columns[0]].unique().astype(str)\n",
    "    \n",
    "    # добавляем в наше созданное измерение\n",
    "    dim.add_many(unique_dim)\n",
    "    \n",
    "    # добавляем аггрегирующий элемент, который включает все остальные\n",
    "    if len(unique_dim) > 1:\n",
    "        dim.add_many(\"All\", tuple(unique_dim))\n",
    "\n",
    "    # \"закрепляем\" измения измерения\n",
    "    dim.commit()"
   ]
  },
  {
   "cell_type": "code",
   "execution_count": null,
   "metadata": {},
   "outputs": [],
   "source": [
    "data_file_name = os.path.join(cwd, \"data\", \"data.csv\")\n",
    "\n",
    "df = pd.read_csv(data_file_name)\n",
    "\n",
    "measures_target_names = [\"price\", \"quantity\", \"amount\"]\n",
    "\n",
    "# создаем общий показатель \"measures\"\n",
    "measures = db.add_dimension(\"measures\").edit()\n",
    "\n",
    "# добавляем в него элементы измерений из исходных данных \n",
    "measures.add_many(measures_target_names)\n",
    "\n",
    "# \"закрепляем\" измения измерения\n",
    "measures.commit() \n",
    "dimension_names.append('measures')"
   ]
  },
  {
   "cell_type": "code",
   "execution_count": null,
   "metadata": {},
   "outputs": [],
   "source": [
    "# создаем OLAP куб. В качестве измерений передадим все созданные измерения и показатели\n",
    "cube = db.add_cube(name=\"data\", dimensions=dimension_names)\n",
    "    \n",
    "dim_count = 3\n",
    "\n",
    "for i in range(dim_count):\n",
    "    df[df.columns[i]] = df[df.columns[i]].astype(str)\n",
    "\n",
    "# заполняем данные из файлы. Путь для каждого значения иммеет вид\n",
    "# (измерение1,...,измерениеn,показатель1)\n",
    "# (измерение1,...,измерениеn,показательn)\n",
    "for row in df.itertuples(index=False):\n",
    "    for cur_measure_index, cur_measure in enumerate(measures_target_names):\n",
    "        address = tuple(row[:dim_count]) + (cur_measure, )\n",
    "        value = row.__getattribute__(cur_measure)\n",
    "        cube.set(address, value)"
   ]
  },
  {
   "cell_type": "code",
   "execution_count": null,
   "metadata": {},
   "outputs": [],
   "source": [
    "view = View(cube, definition={\n",
    "        \"filters\": {\"dimensions\": [\"dim_assets\", \"dim_date\"]},\n",
    "        \"columns\": {\"dimensions\": [\"measures\"]},\n",
    "        \"rows\": {\"dimensions\": [\"dim_company\"]}\n",
    "    })\n",
    "\n",
    "print(view.to_console_output())"
   ]
  },
  {
   "cell_type": "code",
   "execution_count": null,
   "metadata": {},
   "outputs": [],
   "source": [
    "view = View(cube, definition={\n",
    "        \"filters\": {\"dimensions\": [{\"dimension\": \"dim_assets\", \"members\": \"All\"}, {\"dimension\": \"dim_date\", \"members\": \"All\"}]},\n",
    "        \"columns\": {\"dimensions\": [\"measures\"]},\n",
    "        \"rows\": {\"dimensions\": [\"dim_company\"]}\n",
    "    })\n",
    "\n",
    "print(view.to_console_output())"
   ]
  },
  {
   "cell_type": "code",
   "execution_count": null,
   "metadata": {},
   "outputs": [],
   "source": [
    "@rule(\"data\", trigger=[\"measures:amount\"], scope=RuleScope.BASE_LEVEL)\n",
    "def rule_cost(c: Cell):\n",
    "    quantity = c[\"quantity\"]\n",
    "    price = c[\"price\", c.BYPASS_RULES]\n",
    "    if quantity and price:\n",
    "        return float(price) * float(quantity)\n",
    "    return c.CONTINUE\n",
    "\n",
    "@rule(\"data\", trigger=[\"measures:price\"], scope=RuleScope.AGGREGATION_LEVEL)\n",
    "def rule_price(c: Cell):\n",
    "    quantity = c[\"quantity\"]\n",
    "    amount = c[\"amount\"]\n",
    "    if quantity != 0:\n",
    "        return float(amount / quantity)\n",
    "    return c.CONTINUE\n",
    "\n",
    "cube.register_rule(rule_cost)\n",
    "cube.register_rule(rule_price)"
   ]
  },
  {
   "cell_type": "code",
   "execution_count": null,
   "metadata": {},
   "outputs": [],
   "source": [
    "view = View(cube, definition={\n",
    "        \"filters\": {\"dimensions\": [{\"dimension\": \"dim_assets\", \"members\": \"All\"}, {\"dimension\": \"dim_date\", \"members\": \"All\"}]},\n",
    "        \"columns\": {\"dimensions\": [\"measures\"]},\n",
    "        \"rows\": {\"dimensions\": [\"dim_company\"]}\n",
    "    })\n",
    "\n",
    "print(view.to_console_output())"
   ]
  },
  {
   "cell_type": "code",
   "execution_count": null,
   "metadata": {},
   "outputs": [],
   "source": [
    "print(view.to_dict())"
   ]
  }
 ],
 "metadata": {
  "kernelspec": {
   "display_name": "venv",
   "language": "python",
   "name": "python3"
  },
  "language_info": {
   "codemirror_mode": {
    "name": "ipython",
    "version": 3
   },
   "file_extension": ".py",
   "mimetype": "text/x-python",
   "name": "python",
   "nbconvert_exporter": "python",
   "pygments_lexer": "ipython3",
   "version": "3.10.12"
  }
 },
 "nbformat": 4,
 "nbformat_minor": 2
}
